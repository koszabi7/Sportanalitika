{
 "cells": [
  {
   "cell_type": "code",
   "execution_count": 1,
   "metadata": {},
   "outputs": [],
   "source": [
    "import requests\n",
    "from bs4 import BeautifulSoup\n",
    "import pandas as pd\n",
    "import html5lib\n",
    "import lxml\n",
    "import bs4\n",
    "from selenium import webdriver\n",
    "from selenium.webdriver.common.by import By\n",
    "from selenium.webdriver.support.ui import WebDriverWait\n",
    "from selenium.webdriver.support import expected_conditions as EC\n",
    "import pandas as pd\n",
    "\n",
    "# Set up Selenium WebDriver\n",
    "from webdriver_manager.chrome import ChromeDriverManager\n",
    "from selenium.webdriver.chrome.service import Service\n"
   ]
  },
  {
   "cell_type": "code",
   "execution_count": 2,
   "metadata": {},
   "outputs": [],
   "source": [
    "options = webdriver.ChromeOptions()\n",
    "options.add_argument(\"--headless\")  # Run in headless mode (no GUI)\n",
    "options.add_argument(\"--disable-gpu\")\n",
    "options.add_argument(\"--window-size=1920,1080\")"
   ]
  },
  {
   "cell_type": "code",
   "execution_count": 3,
   "metadata": {},
   "outputs": [],
   "source": [
    "service = Service(ChromeDriverManager().install())\n",
    "driver = webdriver.Chrome(service=service, options=options)"
   ]
  },
  {
   "cell_type": "code",
   "execution_count": 4,
   "metadata": {},
   "outputs": [],
   "source": [
    "url = \"https://fbref.com/en/comps/9/gca/Premier-League-Stats\""
   ]
  },
  {
   "cell_type": "code",
   "execution_count": 5,
   "metadata": {},
   "outputs": [],
   "source": [
    "driver.get(url)"
   ]
  },
  {
   "cell_type": "code",
   "execution_count": 6,
   "metadata": {},
   "outputs": [],
   "source": [
    "try:\n",
    "    WebDriverWait(driver, 10).until(\n",
    "        EC.presence_of_element_located((By.ID, \"stats_gca\"))\n",
    "    )\n",
    "except:\n",
    "    print(\"❌ The table did not load.\")\n",
    "    driver.quit()\n",
    "    exit()\n"
   ]
  },
  {
   "cell_type": "code",
   "execution_count": 7,
   "metadata": {},
   "outputs": [],
   "source": [
    "soup = BeautifulSoup(driver.page_source, \"html.parser\")\n",
    "driver.quit()  # Close the browser after getting the HTML"
   ]
  },
  {
   "cell_type": "code",
   "execution_count": 8,
   "metadata": {},
   "outputs": [],
   "source": [
    "table = soup.find(\"table\", {\"id\": \"stats_gca\"})\n",
    "#table = tables[1]\n",
    "if not table:\n",
    "    print(\"❌ The table with ID 'stats_gca' was not found.\")\n",
    "    exit()"
   ]
  },
  {
   "cell_type": "code",
   "execution_count": 9,
   "metadata": {},
   "outputs": [],
   "source": [
    "players_data = []\n",
    "for row in table.find(\"tbody\").find_all(\"tr\"):  # Get rows inside tbody\n",
    "    player_cell = row.find(\"td\", {\"data-stat\": \"player\"})  # Find player cell\n",
    "    if player_cell:\n",
    "        player_name = player_cell.text.strip()\n",
    "        player_link = player_cell.find(\"a\")  # Find hyperlink inside <td>\n",
    "        if player_link:\n",
    "            player_url = \"https://fbref.com\" + player_link[\"href\"]\n",
    "            players_data.append([player_name, player_url])"
   ]
  },
  {
   "cell_type": "code",
   "execution_count": 10,
   "metadata": {},
   "outputs": [],
   "source": [
    "df = pd.DataFrame(players_data, columns=[\"Player\", \"URL\"])"
   ]
  },
  {
   "cell_type": "code",
   "execution_count": 11,
   "metadata": {},
   "outputs": [
    {
     "name": "stdout",
     "output_type": "stream",
     "text": [
      "✅ Player list saved to players_list_gca.csv\n"
     ]
    }
   ],
   "source": [
    "df.to_csv(\"players_list_gca.csv\", index=False)\n",
    "print(\"✅ Player list saved to players_list_gca.csv\")"
   ]
  },
  {
   "cell_type": "code",
   "execution_count": 13,
   "metadata": {},
   "outputs": [
    {
     "data": {
      "text/html": [
       "<div>\n",
       "<style scoped>\n",
       "    .dataframe tbody tr th:only-of-type {\n",
       "        vertical-align: middle;\n",
       "    }\n",
       "\n",
       "    .dataframe tbody tr th {\n",
       "        vertical-align: top;\n",
       "    }\n",
       "\n",
       "    .dataframe thead th {\n",
       "        text-align: right;\n",
       "    }\n",
       "</style>\n",
       "<table border=\"1\" class=\"dataframe\">\n",
       "  <thead>\n",
       "    <tr style=\"text-align: right;\">\n",
       "      <th></th>\n",
       "      <th>Player</th>\n",
       "      <th>URL</th>\n",
       "    </tr>\n",
       "  </thead>\n",
       "  <tbody>\n",
       "    <tr>\n",
       "      <th>0</th>\n",
       "      <td>Max Aarons</td>\n",
       "      <td>https://fbref.com/en/players/774cf58b/Max-Aarons</td>\n",
       "    </tr>\n",
       "    <tr>\n",
       "      <th>1</th>\n",
       "      <td>Joshua Acheampong</td>\n",
       "      <td>https://fbref.com/en/players/b7e62e1d/Joshua-A...</td>\n",
       "    </tr>\n",
       "    <tr>\n",
       "      <th>2</th>\n",
       "      <td>Tyler Adams</td>\n",
       "      <td>https://fbref.com/en/players/2b09d998/Tyler-Adams</td>\n",
       "    </tr>\n",
       "    <tr>\n",
       "      <th>3</th>\n",
       "      <td>Tosin Adarabioyo</td>\n",
       "      <td>https://fbref.com/en/players/c81d773d/Tosin-Ad...</td>\n",
       "    </tr>\n",
       "    <tr>\n",
       "      <th>4</th>\n",
       "      <td>Simon Adingra</td>\n",
       "      <td>https://fbref.com/en/players/4dcec659/Simon-Ad...</td>\n",
       "    </tr>\n",
       "    <tr>\n",
       "      <th>...</th>\n",
       "      <td>...</td>\n",
       "      <td>...</td>\n",
       "    </tr>\n",
       "    <tr>\n",
       "      <th>544</th>\n",
       "      <td>Ashley Young</td>\n",
       "      <td>https://fbref.com/en/players/be927d03/Ashley-Y...</td>\n",
       "    </tr>\n",
       "    <tr>\n",
       "      <th>545</th>\n",
       "      <td>Illia Zabarnyi</td>\n",
       "      <td>https://fbref.com/en/players/88968486/Illia-Za...</td>\n",
       "    </tr>\n",
       "    <tr>\n",
       "      <th>546</th>\n",
       "      <td>Oleksandr Zinchenko</td>\n",
       "      <td>https://fbref.com/en/players/51cf8561/Oleksand...</td>\n",
       "    </tr>\n",
       "    <tr>\n",
       "      <th>547</th>\n",
       "      <td>Joshua Zirkzee</td>\n",
       "      <td>https://fbref.com/en/players/028e70b9/Joshua-Z...</td>\n",
       "    </tr>\n",
       "    <tr>\n",
       "      <th>548</th>\n",
       "      <td>Martin Ødegaard</td>\n",
       "      <td>https://fbref.com/en/players/79300479/Martin-O...</td>\n",
       "    </tr>\n",
       "  </tbody>\n",
       "</table>\n",
       "<p>549 rows × 2 columns</p>\n",
       "</div>"
      ],
      "text/plain": [
       "                  Player                                                URL\n",
       "0             Max Aarons   https://fbref.com/en/players/774cf58b/Max-Aarons\n",
       "1      Joshua Acheampong  https://fbref.com/en/players/b7e62e1d/Joshua-A...\n",
       "2            Tyler Adams  https://fbref.com/en/players/2b09d998/Tyler-Adams\n",
       "3       Tosin Adarabioyo  https://fbref.com/en/players/c81d773d/Tosin-Ad...\n",
       "4          Simon Adingra  https://fbref.com/en/players/4dcec659/Simon-Ad...\n",
       "..                   ...                                                ...\n",
       "544         Ashley Young  https://fbref.com/en/players/be927d03/Ashley-Y...\n",
       "545       Illia Zabarnyi  https://fbref.com/en/players/88968486/Illia-Za...\n",
       "546  Oleksandr Zinchenko  https://fbref.com/en/players/51cf8561/Oleksand...\n",
       "547       Joshua Zirkzee  https://fbref.com/en/players/028e70b9/Joshua-Z...\n",
       "548      Martin Ødegaard  https://fbref.com/en/players/79300479/Martin-O...\n",
       "\n",
       "[549 rows x 2 columns]"
      ]
     },
     "execution_count": 13,
     "metadata": {},
     "output_type": "execute_result"
    }
   ],
   "source": [
    "df"
   ]
  },
  {
   "cell_type": "code",
   "execution_count": null,
   "metadata": {},
   "outputs": [],
   "source": []
  }
 ],
 "metadata": {
  "kernelspec": {
   "display_name": "onlab",
   "language": "python",
   "name": "python3"
  },
  "language_info": {
   "codemirror_mode": {
    "name": "ipython",
    "version": 3
   },
   "file_extension": ".py",
   "mimetype": "text/x-python",
   "name": "python",
   "nbconvert_exporter": "python",
   "pygments_lexer": "ipython3",
   "version": "3.10.16"
  }
 },
 "nbformat": 4,
 "nbformat_minor": 2
}
